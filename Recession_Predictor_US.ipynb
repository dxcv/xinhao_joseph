{
 "cells": [
  {
   "cell_type": "markdown",
   "metadata": {},
   "source": [
    "#### import fredapi using \"pip install fredapi\""
   ]
  },
  {
   "cell_type": "markdown",
   "metadata": {},
   "source": [
    "#### Pls run this code to get access: \" fred = Fred(api_key='25c0974b090ad5bf58659aedca1daadc') \""
   ]
  },
  {
   "cell_type": "code",
   "execution_count": 183,
   "metadata": {},
   "outputs": [],
   "source": [
    "from fredapi import Fred\n",
    "import pandas as pd\n",
    "import datetime as dt\n",
    "import matplotlib.pyplot as plt\n",
    "from matplotlib import style\n",
    "import pandas_datareader.data as web\n",
    "from sklearn.metrics import confusion_matrix\n",
    "from sklearn.metrics import precision_score, recall_score\n",
    "from matplotlib import pyplot as plt\n",
    "%matplotlib inline\n",
    "import numpy as np\n",
    "style.use('ggplot')"
   ]
  },
  {
   "cell_type": "code",
   "execution_count": 184,
   "metadata": {},
   "outputs": [],
   "source": [
    "fred = Fred(api_key='25c0974b090ad5bf58659aedca1daadc')\n",
    "#use this api key to get access to FRED data\n",
    "\n",
    "term_spread_pch = fred.get_series('T10Y2Y', frequency = 'q',units='pch')\n",
    "credit_to_gdp=fred.get_series('QUSNAM770A',frequency='q',units='chg')\n",
    "M1_growth=fred.get_series('MANMM101USQ657S',frequency='q')\n",
    "M2_growth=fred.get_series('MABMM201USQ189S',frequency='q',units='pch')\n",
    "nasdaq_growth=fred.get_series('NASDAQCOM',frequency='q',units='pch')\n",
    "debt_to_gdp_growth=fred.get_series('GFDEGDQ188S',frequency='q',units='pch')\n",
    "cpi=fred.get_series('CPIAUCSL',frequency='q',units='pch')\n",
    "employ_rate=fred.get_series('EMRATIO',frequency='q',units='pch')\n",
    "# T10Y2Y is the 10 year and 2 year treasury spread\n",
    "# keep frequency as q for quarterly\n",
    "#observation_start \n"
   ]
  },
  {
   "cell_type": "code",
   "execution_count": 185,
   "metadata": {
    "scrolled": true
   },
   "outputs": [],
   "source": [
    "df=pd.DataFrame(credit_to_gdp,columns=['credit_to_gdp'])\n",
    "df['term_spread_pch']=term_spread_pch\n",
    "df['M1_growth']=M1_growth\n",
    "df['M2_growth']=M2_growth\n",
    "df['nasdaq_growth']=nasdaq_growth\n",
    "df['debt_to_gdp_growth']=debt_to_gdp_growth\n",
    "df['cpi']=cpi\n",
    "df['employ_rate']=employ_rate\n",
    "df.dropna(inplace=True)\n",
    "\n",
    "crisis=pd.read_csv('df.csv',index_col=[0])\n",
    "crisis=crisis.iloc[:,8]\n",
    "df['crisis']=crisis\n",
    "\n",
    "#df.fillna(0,inplace=True)\n"
   ]
  },
  {
   "cell_type": "code",
   "execution_count": 186,
   "metadata": {},
   "outputs": [
    {
     "data": {
      "text/html": [
       "<div>\n",
       "<style scoped>\n",
       "    .dataframe tbody tr th:only-of-type {\n",
       "        vertical-align: middle;\n",
       "    }\n",
       "\n",
       "    .dataframe tbody tr th {\n",
       "        vertical-align: top;\n",
       "    }\n",
       "\n",
       "    .dataframe thead th {\n",
       "        text-align: right;\n",
       "    }\n",
       "</style>\n",
       "<table border=\"1\" class=\"dataframe\">\n",
       "  <thead>\n",
       "    <tr style=\"text-align: right;\">\n",
       "      <th></th>\n",
       "      <th>credit_to_gdp</th>\n",
       "      <th>term_spread_pch</th>\n",
       "      <th>M1_growth</th>\n",
       "      <th>M2_growth</th>\n",
       "      <th>nasdaq_growth</th>\n",
       "      <th>debt_to_gdp_growth</th>\n",
       "      <th>cpi</th>\n",
       "      <th>employ_rate</th>\n",
       "      <th>crisis</th>\n",
       "    </tr>\n",
       "  </thead>\n",
       "  <tbody>\n",
       "    <tr>\n",
       "      <th>1976-10-01</th>\n",
       "      <td>-0.030280</td>\n",
       "      <td>0.184894</td>\n",
       "      <td>0.200070</td>\n",
       "      <td>2.436289</td>\n",
       "      <td>-0.308209</td>\n",
       "      <td>-0.187322</td>\n",
       "      <td>0.640280</td>\n",
       "      <td>-0.042472</td>\n",
       "      <td>0</td>\n",
       "    </tr>\n",
       "    <tr>\n",
       "      <th>1977-01-01</th>\n",
       "      <td>0.330661</td>\n",
       "      <td>0.034631</td>\n",
       "      <td>0.607569</td>\n",
       "      <td>2.172971</td>\n",
       "      <td>0.245530</td>\n",
       "      <td>-0.670143</td>\n",
       "      <td>1.125586</td>\n",
       "      <td>0.861818</td>\n",
       "      <td>0</td>\n",
       "    </tr>\n",
       "    <tr>\n",
       "      <th>1977-04-01</th>\n",
       "      <td>0.511132</td>\n",
       "      <td>0.044877</td>\n",
       "      <td>0.315114</td>\n",
       "      <td>1.339844</td>\n",
       "      <td>-0.266201</td>\n",
       "      <td>-1.897691</td>\n",
       "      <td>1.011622</td>\n",
       "      <td>2.144692</td>\n",
       "      <td>0</td>\n",
       "    </tr>\n",
       "    <tr>\n",
       "      <th>1977-07-01</th>\n",
       "      <td>-0.752163</td>\n",
       "      <td>-0.055278</td>\n",
       "      <td>0.060770</td>\n",
       "      <td>0.879321</td>\n",
       "      <td>0.125198</td>\n",
       "      <td>-0.111064</td>\n",
       "      <td>0.549960</td>\n",
       "      <td>0.721892</td>\n",
       "      <td>0</td>\n",
       "    </tr>\n",
       "    <tr>\n",
       "      <th>1977-10-01</th>\n",
       "      <td>0.330661</td>\n",
       "      <td>-0.088568</td>\n",
       "      <td>0.311510</td>\n",
       "      <td>0.605224</td>\n",
       "      <td>-0.265480</td>\n",
       "      <td>-0.029929</td>\n",
       "      <td>0.665111</td>\n",
       "      <td>1.988803</td>\n",
       "      <td>0</td>\n",
       "    </tr>\n",
       "  </tbody>\n",
       "</table>\n",
       "</div>"
      ],
      "text/plain": [
       "            credit_to_gdp  term_spread_pch  M1_growth  M2_growth  \\\n",
       "1976-10-01      -0.030280         0.184894   0.200070   2.436289   \n",
       "1977-01-01       0.330661         0.034631   0.607569   2.172971   \n",
       "1977-04-01       0.511132         0.044877   0.315114   1.339844   \n",
       "1977-07-01      -0.752163        -0.055278   0.060770   0.879321   \n",
       "1977-10-01       0.330661        -0.088568   0.311510   0.605224   \n",
       "\n",
       "            nasdaq_growth  debt_to_gdp_growth       cpi  employ_rate  crisis  \n",
       "1976-10-01      -0.308209           -0.187322  0.640280    -0.042472       0  \n",
       "1977-01-01       0.245530           -0.670143  1.125586     0.861818       0  \n",
       "1977-04-01      -0.266201           -1.897691  1.011622     2.144692       0  \n",
       "1977-07-01       0.125198           -0.111064  0.549960     0.721892       0  \n",
       "1977-10-01      -0.265480           -0.029929  0.665111     1.988803       0  "
      ]
     },
     "execution_count": 186,
     "metadata": {},
     "output_type": "execute_result"
    }
   ],
   "source": [
    "# standardize features\n",
    "from sklearn import preprocessing\n",
    "\n",
    "#get the columns\n",
    "names = df.columns\n",
    "names=names.drop('crisis')\n",
    "names\n",
    "\n",
    "# Create the Scaler object\n",
    "scaler = preprocessing.StandardScaler()\n",
    "\n",
    "# Fit your data on the scaler object\n",
    "scaled_df = scaler.fit_transform(df.iloc[:,:8])\n",
    "scaled_df = pd.DataFrame(scaled_df, columns=names,index=df.index)\n",
    "\n",
    "scaled_df['crisis']=df['crisis']\n",
    "scaled_df.head()"
   ]
  },
  {
   "cell_type": "code",
   "execution_count": 197,
   "metadata": {},
   "outputs": [
    {
     "name": "stdout",
     "output_type": "stream",
     "text": [
      "TimeSeriesSplit(max_train_size=None, n_splits=5)\n"
     ]
    }
   ],
   "source": [
    "# use TimeSeriesSplit to split time series data\n",
    "from sklearn.model_selection import TimeSeriesSplit\n",
    "X=df.iloc[:,:8]\n",
    "y=df.iloc[:,8]\n",
    "tscv = TimeSeriesSplit(n_splits=5)\n",
    "print(tscv)\n",
    "for train_index, test_index in tscv.split(X):\n",
    "    #print(\"TRAIN:\", train_index, \"TEST:\", test_index)\n",
    "    X_train, X_test = X.iloc[train_index], X.iloc[test_index]\n",
    "    y_train, y_test = y.iloc[train_index], y.iloc[test_index]"
   ]
  },
  {
   "cell_type": "code",
   "execution_count": 188,
   "metadata": {},
   "outputs": [
    {
     "data": {
      "text/plain": [
       "<matplotlib.collections.PathCollection at 0x1a219f3ef0>"
      ]
     },
     "execution_count": 188,
     "metadata": {},
     "output_type": "execute_result"
    },
    {
     "data": {
      "image/png": "[encoded data removed]",
      "text/plain": [
       "<Figure size 432x288 with 1 Axes>"
      ]
     },
     "metadata": {},
     "output_type": "display_data"
    }
   ],
   "source": [
    "# before fitting models, plot a scatter plot of 'crisis' vs 'non_crisis' data\n",
    "\n",
    "df1=df[df['crisis']==1]\n",
    "df0=df[df['crisis']==0]\n",
    "# randomly pick two factors to plot a scattor to see if there is a kernel to separate crisis/no-crisis in 2D space \n",
    "plt.xlabel('debt_to_gdp_growth')\n",
    "plt.ylabel('credit_to_gdp')\n",
    "plt.scatter(df0['debt_to_gdp_growth'],df0['credit_to_gdp'],color='green',marker='+')\n",
    "plt.scatter(df1['debt_to_gdp_growth'],df1['credit_to_gdp'],color='red',marker='+')"
   ]
  },
  {
   "cell_type": "code",
   "execution_count": 189,
   "metadata": {},
   "outputs": [
    {
     "data": {
      "text/plain": [
       "<matplotlib.collections.PathCollection at 0x1a21aec438>"
      ]
     },
     "execution_count": 189,
     "metadata": {},
     "output_type": "execute_result"
    },
    {
     "data": {
      "image/png": "[encoded data removed]",
      "text/plain": [
       "<Figure size 432x288 with 1 Axes>"
      ]
     },
     "metadata": {},
     "output_type": "display_data"
    }
   ],
   "source": [
    "# randomly pick two factors to plot a scattor to see if there is a kernel to separate crisis/no-crisis in 2D space \n",
    "plt.xlabel('term_spread_pch')\n",
    "plt.ylabel('nasdaq_growth')\n",
    "plt.scatter(df0['term_spread_pch'],df0['nasdaq_growth'],color='green',marker='+')\n",
    "plt.scatter(df1['term_spread_pch'],df1['nasdaq_growth'],color='red',marker='+')"
   ]
  },
  {
   "cell_type": "markdown",
   "metadata": {},
   "source": [
    "#### SGD_Classifier"
   ]
  },
  {
   "cell_type": "code",
   "execution_count": 190,
   "metadata": {},
   "outputs": [
    {
     "name": "stdout",
     "output_type": "stream",
     "text": [
      "recall_score is: 0.0\n",
      "precision_score is: 0.0\n"
     ]
    },
    {
     "name": "stderr",
     "output_type": "stream",
     "text": [
      "//anaconda3/lib/python3.7/site-packages/sklearn/metrics/classification.py:1439: UndefinedMetricWarning: Recall is ill-defined and being set to 0.0 due to no true samples.\n",
      "  'recall', 'true', average, warn_for)\n"
     ]
    }
   ],
   "source": [
    "from sklearn.linear_model import SGDClassifier  # SGD_Classifier\n",
    "sgd_clf=SGDClassifier()\n",
    "sgd_clf.fit(X_train,y_train)\n",
    "y_pred=sgd_clf.predict(X_test)\n",
    "\n",
    "print('recall_score is: '+str(recall_score(y_test,y_pred)))\n",
    "print('precision_score is: '+str(precision_score(y_test,y_pred)))\n",
    "\n",
    "# Obviously, linear model SGD is too simple to well explain the dataset."
   ]
  },
  {
   "cell_type": "markdown",
   "metadata": {},
   "source": [
    "#### SVM_Classifier"
   ]
  },
  {
   "cell_type": "code",
   "execution_count": 191,
   "metadata": {},
   "outputs": [
    {
     "data": {
      "text/plain": [
       "SVC(C=1.0, cache_size=200, class_weight=None, coef0=0.0,\n",
       "    decision_function_shape='ovr', degree=3, gamma='auto', kernel='rbf',\n",
       "    max_iter=-1, probability=False, random_state=None, shrinking=True,\n",
       "    tol=0.001, verbose=False)"
      ]
     },
     "execution_count": 191,
     "metadata": {},
     "output_type": "execute_result"
    }
   ],
   "source": [
    "from sklearn.svm import SVC\n",
    "model=SVC(gamma='auto')\n",
    "model.fit(X_train,y_train)"
   ]
  },
  {
   "cell_type": "code",
   "execution_count": 192,
   "metadata": {},
   "outputs": [
    {
     "name": "stdout",
     "output_type": "stream",
     "text": [
      "SVM training accuracy is: 0.992\n",
      "SVM test     accuracy is: 1.0\n"
     ]
    }
   ],
   "source": [
    "print('SVM training accuracy is: '+str(model.score(X_train,y_train)))\n",
    "print('SVM test     accuracy is: '+str(model.score(X_test,y_test)))\n",
    "\n",
    "# SVM did a good job"
   ]
  },
  {
   "cell_type": "code",
   "execution_count": 193,
   "metadata": {},
   "outputs": [
    {
     "data": {
      "text/plain": [
       "<matplotlib.axes._subplots.AxesSubplot at 0x1a21a47a20>"
      ]
     },
     "execution_count": 193,
     "metadata": {},
     "output_type": "execute_result"
    },
    {
     "data": {
      "image/png": "[encoded data removed]",
      "text/plain": [
       "<Figure size 432x288 with 1 Axes>"
      ]
     },
     "metadata": {},
     "output_type": "display_data"
    }
   ],
   "source": [
    "# To visualize SVM  results (test:1970-2007; train:2008-2019)\n",
    "y_train_pred=model.predict(X_train)\n",
    "y_test_pred=model.predict(X_test)\n",
    "crisis=np.concatenate((y_train_pred,y_test_pred), axis=None)\n",
    "crisis=pd.DataFrame(crisis,index=df.index,columns={'crisis'})\n",
    "crisis.plot(kind='line')\n",
    "\n",
    "# In training set, SVM successfully fits the 1990s US recession, 2000 US dotcom bubble bust, and 2008 financial crisis.\n",
    "# In test set [2008-2019], SVM gave no wrong alert and classify ten years as 'NO-crisis'.\n",
    "# *** However, in training set, SVM missed the 1970s oil Crisis. "
   ]
  },
  {
   "cell_type": "markdown",
   "metadata": {},
   "source": [
    "#### Random Forest"
   ]
  },
  {
   "cell_type": "code",
   "execution_count": 194,
   "metadata": {},
   "outputs": [
    {
     "data": {
      "text/plain": [
       "RandomForestClassifier(bootstrap=True, class_weight=None, criterion='gini',\n",
       "                       max_depth=None, max_features='auto', max_leaf_nodes=None,\n",
       "                       min_impurity_decrease=0.0, min_impurity_split=None,\n",
       "                       min_samples_leaf=1, min_samples_split=2,\n",
       "                       min_weight_fraction_leaf=0.0, n_estimators=100,\n",
       "                       n_jobs=None, oob_score=False, random_state=None,\n",
       "                       verbose=0, warm_start=False)"
      ]
     },
     "execution_count": 194,
     "metadata": {},
     "output_type": "execute_result"
    }
   ],
   "source": [
    "from sklearn.ensemble import RandomForestClassifier\n",
    "model=RandomForestClassifier(n_estimators=100)\n",
    "model.fit(X_train,y_train)"
   ]
  },
  {
   "cell_type": "code",
   "execution_count": 195,
   "metadata": {},
   "outputs": [
    {
     "data": {
      "text/plain": [
       "1.0"
      ]
     },
     "execution_count": 195,
     "metadata": {},
     "output_type": "execute_result"
    }
   ],
   "source": [
    "model.score(X_test,y_test)\n",
    "#Random Forest did well on test_set\n",
    "# No overfitting since score_test is 100%"
   ]
  },
  {
   "cell_type": "code",
   "execution_count": 196,
   "metadata": {},
   "outputs": [
    {
     "data": {
      "text/plain": [
       "<matplotlib.axes._subplots.AxesSubplot at 0x1a21c429e8>"
      ]
     },
     "execution_count": 196,
     "metadata": {},
     "output_type": "execute_result"
    },
    {
     "data": {
      "image/png": "[encoded data removed]",
      "text/plain": [
       "<Figure size 432x288 with 1 Axes>"
      ]
     },
     "metadata": {},
     "output_type": "display_data"
    }
   ],
   "source": [
    "# To visualize RandomForest  results (test:1970-2007; train:2008-2019)\n",
    "y_train_pred=model.predict(X_train)\n",
    "y_test_pred=model.predict(X_test)\n",
    "crisis=np.concatenate((y_train_pred,y_test_pred), axis=None)\n",
    "crisis=pd.DataFrame(crisis,index=df.index,columns={'crisis'})\n",
    "crisis.plot(kind='line')\n",
    "\n",
    "# RandomForest successfully predicts 4 crisis in training set, and it gave no false alarm after 2008, which is good."
   ]
  },
  {
   "cell_type": "code",
   "execution_count": 199,
   "metadata": {},
   "outputs": [
    {
     "data": {
      "text/plain": [
       "array([0.14009113, 0.19820894, 0.0650236 , 0.0828901 , 0.18740292,\n",
       "       0.11494894, 0.14107912, 0.07035526])"
      ]
     },
     "execution_count": 199,
     "metadata": {},
     "output_type": "execute_result"
    }
   ],
   "source": [
    "model.feature_importances_"
   ]
  },
  {
   "cell_type": "markdown",
   "metadata": {},
   "source": [
    "###### Conclusion: The top four indicators for crisis prediction is term_spread(19.8%), nasqad_index_change(18.7%), credit_to_gdp(14%) and         CPI(14%)"
   ]
  },
  {
   "cell_type": "markdown",
   "metadata": {},
   "source": [
    "###### RandomForest did better than SVM;\n",
    "Here, Neural Network is absent since the dataset is too small.(only 150 datapoints)"
   ]
  }
 ],
 "metadata": {
  "kernelspec": {
   "display_name": "Python 3",
   "language": "python",
   "name": "python3"
  },
  "language_info": {
   "codemirror_mode": {
    "name": "ipython",
    "version": 3
   },
   "file_extension": ".py",
   "mimetype": "text/x-python",
   "name": "python",
   "nbconvert_exporter": "python",
   "pygments_lexer": "ipython3",
   "version": "3.7.3"
  },
  "toc": {
   "base_numbering": 1,
   "nav_menu": {},
   "number_sections": true,
   "sideBar": true,
   "skip_h1_title": false,
   "title_cell": "Table of Contents",
   "title_sidebar": "Contents",
   "toc_cell": false,
   "toc_position": {},
   "toc_section_display": true,
   "toc_window_display": false
  }
 },
 "nbformat": 4,
 "nbformat_minor": 2
}
