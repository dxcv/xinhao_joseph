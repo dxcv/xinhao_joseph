{
 "cells": [
  {
   "cell_type": "code",
   "execution_count": 264,
   "metadata": {},
   "outputs": [
    {
     "name": "stdout",
     "output_type": "stream",
     "text": [
      "2.3.1\n"
     ]
    }
   ],
   "source": [
    "import numpy as np\n",
    "import pandas as pd\n",
    "from sklearn import preprocessing\n",
    "import keras\n",
    "print(keras.__version__)\n",
    "from keras.models import Sequential\n",
    "from keras.layers import Dense, Activation,Dropout\n",
    "from keras import models\n",
    "from keras import layers\n",
    "from keras.callbacks import EarlyStopping\n",
    "from keras import regularizers\n",
    "import matplotlib.pyplot as plt\n",
    "import sys"
   ]
  },
  {
   "cell_type": "code",
   "execution_count": 76,
   "metadata": {},
   "outputs": [
    {
     "name": "stderr",
     "output_type": "stream",
     "text": [
      "//anaconda3/lib/python3.7/site-packages/ipykernel_launcher.py:10: SettingWithCopyWarning: \n",
      "A value is trying to be set on a copy of a slice from a DataFrame.\n",
      "Try using .loc[row_indexer,col_indexer] = value instead\n",
      "\n",
      "See the caveats in the documentation: http://pandas.pydata.org/pandas-docs/stable/indexing.html#indexing-view-versus-copy\n",
      "  # Remove the CWD from sys.path while we load stuff.\n",
      "//anaconda3/lib/python3.7/site-packages/ipykernel_launcher.py:11: SettingWithCopyWarning: \n",
      "A value is trying to be set on a copy of a slice from a DataFrame.\n",
      "Try using .loc[row_indexer,col_indexer] = value instead\n",
      "\n",
      "See the caveats in the documentation: http://pandas.pydata.org/pandas-docs/stable/indexing.html#indexing-view-versus-copy\n",
      "  # This is added back by InteractiveShellApp.init_path()\n"
     ]
    }
   ],
   "source": [
    "data=pd.read_csv('dji30ret.csv',index_col=0)\n",
    "data.head()\n",
    "train=data.loc['1987-03-16':'2002-12-31',:]\n",
    "test=data.loc['2003-01-01':'2009-02-03',:]\n",
    "names=list(data.columns)\n",
    "\n",
    "## lag 30 days\n",
    "for i in range(1,30):\n",
    "    for j in range(30):\n",
    "        train[str(names[j])+'_lag_day'+str(i)]=train[names[j]].shift(i)\n",
    "        test[str(names[j])+'_lag_day'+str(i)]=test[names[j]].shift(i)\n",
    "#train"
   ]
  },
  {
   "cell_type": "code",
   "execution_count": 200,
   "metadata": {},
   "outputs": [],
   "source": [
    "def getCube(arg):\n",
    "    #create X and y\n",
    "    X=arg\n",
    "    X_scaled=preprocessing.StandardScaler().fit(train).transform(X)\n",
    "    X_scaled=pd.DataFrame(X_scaled,index=X.index,columns=X.columns)\n",
    "    y=pd.DataFrame(arg.loc[:,'AA'])\n",
    "    y=y.shift(-1)\n",
    "    y=y.rename(columns={'AA':'t+1'})\n",
    "\n",
    "    # create 1st cube\n",
    "    cube=pd.concat([y,X_scaled],axis=1)\n",
    "    cube=cube.dropna()\n",
    "    cube['company']='AA'\n",
    "\n",
    "    # stack vertically\n",
    "    for i in names[1:]:\n",
    "        y_=pd.DataFrame(arg[i])\n",
    "        y_=y_.shift(-1)\n",
    "        y_=y_.rename(columns={i:'t+1'})\n",
    "        cube_temp=pd.concat([y_,X_scaled],axis=1)\n",
    "        cube_temp=cube_temp.dropna()\n",
    "        cube_temp['company']=i\n",
    "        cube=cube.append(cube_temp)\n",
    "\n",
    "    ## get dummies\n",
    "    dummies=pd.get_dummies(cube['company'])\n",
    "    cube=pd.concat([cube,dummies],axis=1)\n",
    "    cube=cube.drop(['company'],axis=1) \n",
    "    cube_sorted=cube.sort_index()\n",
    "    cube_=cube_sorted.iloc[1:,:]\n",
    "    return cube_"
   ]
  },
  {
   "cell_type": "code",
   "execution_count": 228,
   "metadata": {},
   "outputs": [],
   "source": [
    "cube_=getCube(train)\n",
    "cube_test=getCube(test)"
   ]
  },
  {
   "cell_type": "markdown",
   "metadata": {},
   "source": [
    "# P1"
   ]
  },
  {
   "cell_type": "markdown",
   "metadata": {},
   "source": [
    "Using the Training Set, fit an a 30-20 Neural Network (i.e. 2 hidden layers, the first with 30 units and\n",
    "the second with 20 units) to predict the t + 1 individual stock return.\n",
    "\n",
    "No Dropout Here, instead use a validation set and choose an early stopping in terms of the number of\n",
    "epochs. \n",
    "\n",
    "We will choose an appropriate optimization method and a mini-batch size of 20. \n",
    "Then Reportthe mean absolute error for the test set"
   ]
  },
  {
   "cell_type": "code",
   "execution_count": 175,
   "metadata": {},
   "outputs": [],
   "source": [
    "X_train,y_train=cube_.iloc[:94979,:].iloc[:,1:],cube_.iloc[:94979,:].iloc[:,0]\n",
    "X_valid,y_valid=cube_.iloc[94980:,:].iloc[:,1:],cube_.iloc[94980:,:].iloc[:,0]"
   ]
  },
  {
   "cell_type": "code",
   "execution_count": 176,
   "metadata": {},
   "outputs": [],
   "source": [
    "def build_model():\n",
    "    model = models.Sequential()\n",
    "    model.add(layers.Dense(30, activation='relu',input_shape=(X_train.shape[1],)))\n",
    "    model.add(layers.Dense(20, activation='relu'))\n",
    "    model.add(layers.Dense(1))\n",
    "    model.compile(optimizer='rmsprop', loss='mse', metrics=['mae'])\n",
    "    return model"
   ]
  },
  {
   "cell_type": "code",
   "execution_count": null,
   "metadata": {},
   "outputs": [],
   "source": [
    "num_epochs = 100\n",
    "all_mae_histories = []\n",
    "es = EarlyStopping(monitor='val_mae',patience=20)\n",
    "\n",
    "# Build the Keras model (already compiled)\n",
    "model = build_model()\n",
    "# Train the model (in monitor mode, verbose=1)\n",
    "history = model.fit(X_train,y_train,\n",
    "                    validation_data=(X_valid, y_valid),\n",
    "                    epochs=num_epochs, batch_size=20,verbose=0,\n",
    "                    callbacks=[es]\n",
    "                   )\n",
    "mae_history = history.history['val_mae']"
   ]
  },
  {
   "cell_type": "code",
   "execution_count": 104,
   "metadata": {},
   "outputs": [
    {
     "data": {
      "image/png": "[encoded data removed]",
      "text/plain": [
       "<Figure size 432x288 with 1 Axes>"
      ]
     },
     "metadata": {
      "needs_background": "light"
     },
     "output_type": "display_data"
    }
   ],
   "source": [
    "import matplotlib.pyplot as plt\n",
    "\n",
    "plt.plot(range(1, len(mae_history) + 1), mae_history)\n",
    "plt.xlabel('Epochs')\n",
    "plt.ylabel('Validation MAE')\n",
    "plt.show()"
   ]
  },
  {
   "cell_type": "code",
   "execution_count": 105,
   "metadata": {},
   "outputs": [
    {
     "name": "stdout",
     "output_type": "stream",
     "text": [
      "The optimal epoch is: 5\n"
     ]
    }
   ],
   "source": [
    "print('The optimal epoch is: '+str(mae_history.index(min(mae_history))+1))"
   ]
  },
  {
   "cell_type": "code",
   "execution_count": 106,
   "metadata": {},
   "outputs": [
    {
     "name": "stdout",
     "output_type": "stream",
     "text": [
      "45089/45089 [==============================] - 1s 23us/step\n",
      "test set mae is:  0.013882494531571865\n"
     ]
    }
   ],
   "source": [
    "# get a fresh and compiled model\n",
    "model = build_model()\n",
    "# Train it on the entirety of the data.\n",
    "X_test=cube_test.iloc[:,1:]\n",
    "y_test=cube_test.iloc[:,0]\n",
    "X_train=cube_.iloc[:,1:]\n",
    "y_train=cube_.iloc[:,0]\n",
    "model.fit(X_train, y_train,\n",
    "          epochs=5, batch_size=20, verbose=0)\n",
    "test_mse_score, test_mae_score = model.evaluate(X_test, y_test)\n",
    "print('test set mae is: ',test_mae_score)"
   ]
  },
  {
   "cell_type": "markdown",
   "metadata": {},
   "source": [
    "# P2"
   ]
  },
  {
   "cell_type": "markdown",
   "metadata": {},
   "source": [
    "Using the Training Set, we will fit a 15-10-5 Neural Network to predict the t + 1 individual stock return. This\n",
    "time use a Dropout rate of 0.3 and no validation. Report the mean absolute error for the test set."
   ]
  },
  {
   "cell_type": "code",
   "execution_count": 107,
   "metadata": {},
   "outputs": [],
   "source": [
    "def build_model_d():\n",
    "    model = models.Sequential()\n",
    "    model.add(layers.Dense(15, activation='relu',input_shape=(X_train.shape[1],)))\n",
    "    model.add(Dropout(0.3))\n",
    "    model.add(layers.Dense(10, activation='relu'))\n",
    "    model.add(Dropout(0.3))\n",
    "    model.add(layers.Dense(5, activation='relu'))\n",
    "    model.add(Dropout(0.3))\n",
    "    model.add(layers.Dense(1))\n",
    "    model.compile(optimizer='rmsprop', loss='mse', metrics=['mae'])\n",
    "    return model"
   ]
  },
  {
   "cell_type": "code",
   "execution_count": 108,
   "metadata": {},
   "outputs": [
    {
     "name": "stdout",
     "output_type": "stream",
     "text": [
      "45089/45089 [==============================] - 1s 25us/step\n",
      "test set mae is:  0.012708804570138454\n"
     ]
    }
   ],
   "source": [
    "# get a fresh and compiled model\n",
    "model_d = build_model_d()\n",
    "# Train it on the entirety of the data.\n",
    "model_d.fit(X_train, y_train,\n",
    "          epochs=5, batch_size=20, verbose=0)\n",
    "test_mse_score, test_mae_score = model_d.evaluate(X_test, y_test)\n",
    "print('test set mae is: ',test_mae_score)"
   ]
  },
  {
   "cell_type": "markdown",
   "metadata": {},
   "source": [
    "# P3"
   ]
  },
  {
   "cell_type": "markdown",
   "metadata": {},
   "source": [
    "fit 15-10-5 Neural Network to predict the t+ 1 individual stock return\n",
    "\n",
    "No dropout this time but instead use L2 regularization.\n",
    "\n",
    "Use cross-validation to choose the appropriate regularization parameter\n",
    "\n",
    "Explain how you performed cross validation to avoid leakage\n",
    "\n",
    "Report the mean absolute error for the test set."
   ]
  },
  {
   "cell_type": "code",
   "execution_count": 153,
   "metadata": {},
   "outputs": [],
   "source": [
    "def build_model_l(k):\n",
    "    model = models.Sequential()\n",
    "    model.add(layers.Dense(15, activation='relu',input_shape=(X_train.shape[1],),kernel_regularizer=regularizers.l2(k)))\n",
    "    model.add(layers.Dense(10, activation='relu'))\n",
    "    model.add(layers.Dense(5, activation='relu'))\n",
    "    model.add(layers.Dense(1))\n",
    "    model.compile(optimizer='rmsprop', loss='mse', metrics=['mae'])\n",
    "    return model"
   ]
  },
  {
   "cell_type": "code",
   "execution_count": 161,
   "metadata": {},
   "outputs": [
    {
     "name": "stdout",
     "output_type": "stream",
     "text": [
      "Now, we are testing k= 0.01\n",
      "train: [    0     1     2 ... 29684 29685 29686] ; test: [30187 30188 30189 ... 59368 59369 59370]\n",
      "29184/29184 [==============================] - 1s 24us/step\n",
      "train: [    0     1     2 ... 59368 59369 59370] ; test: [59871 59872 59873 ... 89052 89053 89054]\n",
      "29184/29184 [==============================] - 1s 24us/step\n",
      "train: [    0     1     2 ... 89052 89053 89054] ; test: [ 89555  89556  89557 ... 118736 118737 118738]\n",
      "29184/29184 [==============================] - 1s 23us/step\n",
      "test set mae is:  0.014836666666666665 \n",
      "\n",
      "\n",
      "Now, we are testing k= 0.1\n",
      "train: [    0     1     2 ... 29684 29685 29686] ; test: [30187 30188 30189 ... 59368 59369 59370]\n",
      "29184/29184 [==============================] - 1s 23us/step\n",
      "train: [    0     1     2 ... 59368 59369 59370] ; test: [59871 59872 59873 ... 89052 89053 89054]\n",
      "29184/29184 [==============================] - 1s 24us/step\n",
      "train: [    0     1     2 ... 89052 89053 89054] ; test: [ 89555  89556  89557 ... 118736 118737 118738]\n",
      "29184/29184 [==============================] - 1s 22us/step\n",
      "test set mae is:  0.014733333333333333 \n",
      "\n",
      "\n",
      "Now, we are testing k= 1\n",
      "train: [    0     1     2 ... 29684 29685 29686] ; test: [30187 30188 30189 ... 59368 59369 59370]\n",
      "29184/29184 [==============================] - 1s 23us/step\n",
      "train: [    0     1     2 ... 59368 59369 59370] ; test: [59871 59872 59873 ... 89052 89053 89054]\n",
      "29184/29184 [==============================] - 1s 24us/step\n",
      "train: [    0     1     2 ... 89052 89053 89054] ; test: [ 89555  89556  89557 ... 118736 118737 118738]\n",
      "29184/29184 [==============================] - 1s 23us/step\n",
      "test set mae is:  0.01477 \n",
      "\n",
      "\n",
      "Now, we are testing k= 10\n",
      "train: [    0     1     2 ... 29684 29685 29686] ; test: [30187 30188 30189 ... 59368 59369 59370]\n",
      "29184/29184 [==============================] - 1s 24us/step\n",
      "train: [    0     1     2 ... 59368 59369 59370] ; test: [59871 59872 59873 ... 89052 89053 89054]\n",
      "29184/29184 [==============================] - 1s 24us/step\n",
      "train: [    0     1     2 ... 89052 89053 89054] ; test: [ 89555  89556  89557 ... 118736 118737 118738]\n",
      "29184/29184 [==============================] - 1s 23us/step\n",
      "test set mae is:  0.01479 \n",
      "\n",
      "\n"
     ]
    }
   ],
   "source": [
    "from sklearn.model_selection import TimeSeriesSplit\n",
    "tscv=TimeSeriesSplit(n_splits=3)\n",
    "tscv\n",
    "train_indexs=[]\n",
    "test_indexs=[]\n",
    "mae=[]\n",
    "\n",
    "for k in [0.01,0.1,1,10]:\n",
    "    print('Now, we are testing k= '+str(k))\n",
    "    test_mae_scores=[]\n",
    "    for train_index,test_index in tscv.split(cube_):\n",
    "        # add a block to avoid 'using today to predict today'\n",
    "        test_index=test_index[500:]\n",
    "        print('train:', train_index, '; test:',test_index)\n",
    "        \n",
    "        # prepocess the data\n",
    "        X_train=cube_.iloc[train_index,1:]\n",
    "        y_train=cube_.iloc[train_index,0]\n",
    "        X_test=cube_.iloc[test_index,1:]\n",
    "        y_test=cube_.iloc[test_index,0]\n",
    "        # get a fresh and compiled model\n",
    "        model_l = build_model_l(k)\n",
    "        # Train it on the entirety of the data.\n",
    "        model_l.fit(X_train, y_train,\n",
    "                  epochs=1, batch_size=20, verbose=0)\n",
    "        test_mse_score, test_mae_score = model_l.evaluate(X_test, y_test)\n",
    "        test_mae_scores.append(round(test_mae_score,5))\n",
    "    mae_avg=sum(test_mae_scores)/len(test_mae_scores)\n",
    "    print('test set mae is: ',mae_avg,'\\n\\n')\n",
    "    mae.append(mae_avg)\n"
   ]
  },
  {
   "cell_type": "code",
   "execution_count": 171,
   "metadata": {},
   "outputs": [
    {
     "data": {
      "text/plain": [
       "Text(0, 0.5, 'mae')"
      ]
     },
     "execution_count": 171,
     "metadata": {},
     "output_type": "execute_result"
    },
    {
     "data": {
      "image/png": "[encoded data removed]",
      "text/plain": [
       "<Figure size 432x288 with 1 Axes>"
      ]
     },
     "metadata": {
      "needs_background": "light"
     },
     "output_type": "display_data"
    }
   ],
   "source": [
    "plt.scatter([0.01,0.1,1,10],mae)\n",
    "plt.ylim(0.01472,0.01484)\n",
    "plt.xlabel('lemda_ parameter')\n",
    "plt.ylabel('mae')"
   ]
  },
  {
   "cell_type": "markdown",
   "metadata": {},
   "source": [
    "As you can notice, optimal regularization hyperparameter is 0.1"
   ]
  },
  {
   "cell_type": "code",
   "execution_count": 170,
   "metadata": {},
   "outputs": [
    {
     "name": "stdout",
     "output_type": "stream",
     "text": [
      "45089/45089 [==============================] - 1s 22us/step\n",
      "test set mae is:  0.01301301084458828\n"
     ]
    }
   ],
   "source": [
    "# process the data\n",
    "X_test=cube_test.iloc[:,1:]\n",
    "y_test=cube_test.iloc[:,0]\n",
    "X_train=cube_.iloc[:,1:]\n",
    "y_train=cube_.iloc[:,0]\n",
    "# get a fresh and compiled model\n",
    "model_l = build_model_l(0.01)\n",
    "# Train it on the entirety of the data.\n",
    "model_l.fit(X_train, y_train,\n",
    "            epochs=5, batch_size=20, verbose=0) # set 'epochs' back to 5\n",
    "test_mse_score, test_mae_score = model_l.evaluate(X_test, y_test)\n",
    "print('test set mae is: ',test_mae_score)"
   ]
  },
  {
   "cell_type": "markdown",
   "metadata": {},
   "source": [
    "For TimeSeriesCV, 'No Leakage','No Using Future to Predict Past'\n",
    "I first sorted DataFrame by ascending index/date, then use 'TimeSeriesSplit' split sorted DataFrame in order to restrain from 'Using Future to Predict Past';\n",
    "\n",
    "On top of that, I ran the command 'test_index=test_index[500:]' to plug a block between train and test, in order to prevent us from 'Using Today to Predict Today'\n",
    "\n",
    "Hope I made my point, even though it was loosely explained."
   ]
  },
  {
   "cell_type": "markdown",
   "metadata": {},
   "source": [
    "# P4"
   ]
  },
  {
   "cell_type": "markdown",
   "metadata": {},
   "source": [
    "Using the Training Set, fit 15-10-5 Neural Network to predict the t+ 1 individual stock up/down move (1\n",
    "for positive return and 0 for negative return).\n",
    "\n",
    "Again use a Dropout rate of 0.3 and no validation. \n",
    "We will Report the classification accuracy for the test set. (Note that this is a classification problem.)"
   ]
  },
  {
   "cell_type": "code",
   "execution_count": 238,
   "metadata": {},
   "outputs": [],
   "source": [
    "def get_binary_cube(arg):\n",
    "    y_01=pd.DataFrame(arg['t+1']>=0,index=arg.index)\n",
    "    y_01=y_01.replace({True:1,False:0})\n",
    "    cube_binary=pd.concat([y_01,arg.iloc[:,1:]],axis=1)\n",
    "    return cube_binary"
   ]
  },
  {
   "cell_type": "code",
   "execution_count": 239,
   "metadata": {},
   "outputs": [],
   "source": [
    "# create binary data\n",
    "cube_binary=get_binary_cube(cube_)\n",
    "cube_test_binary=get_binary_cube(cube_test)"
   ]
  },
  {
   "cell_type": "code",
   "execution_count": 253,
   "metadata": {},
   "outputs": [],
   "source": [
    "def build_model_01():\n",
    "    model = models.Sequential()\n",
    "    model.add(layers.Dense(15, activation='relu',input_shape=(X_train.shape[1],)))\n",
    "    model.add(Dropout(0.3))\n",
    "    model.add(layers.Dense(10, activation='relu'))\n",
    "    model.add(Dropout(0.3))\n",
    "    model.add(layers.Dense(5, activation='relu'))\n",
    "    model.add(Dropout(0.3))\n",
    "    model.add(layers.Dense(1, activation='softmax'))\n",
    "    model.compile(optimizer='rmsprop', loss='binary_crossentropy', metrics=['accuracy'])\n",
    "    return model"
   ]
  },
  {
   "cell_type": "code",
   "execution_count": 281,
   "metadata": {},
   "outputs": [
    {
     "name": "stdout",
     "output_type": "stream",
     "text": [
      "45089/45089 [==============================] - 1s 25us/step\n",
      "test set accuracy is:  0.5133846402168274\n"
     ]
    }
   ],
   "source": [
    "# process the data\n",
    "X_test=cube_test_binary.iloc[:,1:]\n",
    "y_test=cube_test_binary.iloc[:,0]\n",
    "X_train=cube_binary.iloc[:,1:]\n",
    "y_train=cube_binary.iloc[:,0]\n",
    "# get a fresh and compiled model\n",
    "model_01 = build_model_01()\n",
    "# Train it on the entirety of the data.\n",
    "model_01.fit(X_train, y_train,\n",
    "            epochs=5, batch_size=20, verbose=0) # set 'epochs' back to 5\n",
    "test_loss_score, test_accuracy_score = model_01.evaluate(X_test, y_test)\n",
    "print('test set accuracy is: ',test_accuracy_score)"
   ]
  },
  {
   "cell_type": "code",
   "execution_count": 282,
   "metadata": {},
   "outputs": [
    {
     "data": {
      "text/plain": [
       "Text(0.5, 1.0, 'Prediction: \"1/0\" vs Data')"
      ]
     },
     "execution_count": 282,
     "metadata": {},
     "output_type": "execute_result"
    },
    {
     "data": {
      "image/png": "[encoded data removed]",
      "text/plain": [
       "<Figure size 432x288 with 1 Axes>"
      ]
     },
     "metadata": {
      "needs_background": "light"
     },
     "output_type": "display_data"
    }
   ],
   "source": [
    "pred=model_01.predict(X_test)\n",
    "graph=pd.DataFrame(pred,index=X_test.index).plot()\n",
    "graph.set_xlabel('date')\n",
    "graph.set_ylabel('prediction')\n",
    "graph.set_title('Prediction: \"1/0\" vs Data')"
   ]
  },
  {
   "cell_type": "markdown",
   "metadata": {},
   "source": [
    "As you can see, the fitted model predicts all test data as '1', there is no '0' at all !\n",
    "\n",
    "Therefore, these binary datasets failed this NN model very badly; "
   ]
  },
  {
   "cell_type": "markdown",
   "metadata": {},
   "source": [
    "# P5"
   ]
  },
  {
   "cell_type": "markdown",
   "metadata": {},
   "source": [
    "###### QUESTION: \n",
    "Compare the mean absolute error of the different estimated models on the Test Set. What are your\n",
    "conclusions?"
   ]
  },
  {
   "cell_type": "markdown",
   "metadata": {},
   "source": [
    "#### Conclusion: Dropout/Bagging method outperformed the rest of methods.\n",
    "\n",
    "Part 1(Vanilla Nets)   mae is 0.01388 '\n",
    "\n",
    "Part 2(Dropout)        mae is 0.012708'\n",
    "\n",
    "Part 3(Regularization) mae is 0.012708'\n",
    "\n",
    "Part 4(Classification) mae is a joke"
   ]
  },
  {
   "cell_type": "code",
   "execution_count": null,
   "metadata": {},
   "outputs": [],
   "source": []
  }
 ],
 "metadata": {
  "kernelspec": {
   "display_name": "Python 3",
   "language": "python",
   "name": "python3"
  },
  "language_info": {
   "codemirror_mode": {
    "name": "ipython",
    "version": 3
   },
   "file_extension": ".py",
   "mimetype": "text/x-python",
   "name": "python",
   "nbconvert_exporter": "python",
   "pygments_lexer": "ipython3",
   "version": "3.7.3"
  }
 },
 "nbformat": 4,
 "nbformat_minor": 2
}
