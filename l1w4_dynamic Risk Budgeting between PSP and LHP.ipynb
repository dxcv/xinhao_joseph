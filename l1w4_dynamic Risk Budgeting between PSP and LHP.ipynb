{
 "cells": [
  {
   "cell_type": "markdown",
   "metadata": {},
   "source": [
    "# Dynamic Risk Budgeting"
   ]
  },
  {
   "cell_type": "markdown",
   "metadata": {},
   "source": [
    "#### ** Make sure you download the 'erk.py' first"
   ]
  },
  {
   "cell_type": "code",
   "execution_count": 117,
   "metadata": {},
   "outputs": [
    {
     "name": "stdout",
     "output_type": "stream",
     "text": [
      "The autoreload extension is already loaded. To reload it, use:\n",
      "  %reload_ext autoreload\n"
     ]
    }
   ],
   "source": [
    "import numpy as np \n",
    "import pandas as pd\n",
    "import erk as erk\n",
    "%matplotlib inline \n",
    "%load_ext autoreload\n",
    "%autoreload 2"
   ]
  },
  {
   "cell_type": "code",
   "execution_count": 99,
   "metadata": {},
   "outputs": [],
   "source": [
    "n_scenarios=5000\n",
    "rates, zc_prices= erk.cir(10,n_scenarios=n_scenarios,b=0.03, r_0=0.03, sigma=0.02)\n",
    "price_eq= erk.gbm(n_years=10, n_scenarios=n_scenarios, mu=0.07, sigma=0.15)"
   ]
  },
  {
   "cell_type": "markdown",
   "metadata": {},
   "source": [
    "## CPPI_based Allocator"
   ]
  },
  {
   "cell_type": "code",
   "execution_count": 100,
   "metadata": {},
   "outputs": [
    {
     "data": {
      "text/html": [
       "<div>\n",
       "<style scoped>\n",
       "    .dataframe tbody tr th:only-of-type {\n",
       "        vertical-align: middle;\n",
       "    }\n",
       "\n",
       "    .dataframe tbody tr th {\n",
       "        vertical-align: top;\n",
       "    }\n",
       "\n",
       "    .dataframe thead th {\n",
       "        text-align: right;\n",
       "    }\n",
       "</style>\n",
       "<table border=\"1\" class=\"dataframe\">\n",
       "  <thead>\n",
       "    <tr style=\"text-align: right;\">\n",
       "      <th></th>\n",
       "      <th>ZC</th>\n",
       "      <th>Equity</th>\n",
       "      <th>70/30</th>\n",
       "      <th>Floor75</th>\n",
       "    </tr>\n",
       "  </thead>\n",
       "  <tbody>\n",
       "    <tr>\n",
       "      <th>mean</th>\n",
       "      <td>1.34</td>\n",
       "      <td>2.02</td>\n",
       "      <td>1.79</td>\n",
       "      <td>2.00</td>\n",
       "    </tr>\n",
       "    <tr>\n",
       "      <th>std</th>\n",
       "      <td>0.00</td>\n",
       "      <td>1.00</td>\n",
       "      <td>0.61</td>\n",
       "      <td>1.01</td>\n",
       "    </tr>\n",
       "    <tr>\n",
       "      <th>p-breach</th>\n",
       "      <td>NaN</td>\n",
       "      <td>0.03</td>\n",
       "      <td>0.01</td>\n",
       "      <td>0.00</td>\n",
       "    </tr>\n",
       "    <tr>\n",
       "      <th>e-shortfall</th>\n",
       "      <td>NaN</td>\n",
       "      <td>0.11</td>\n",
       "      <td>0.08</td>\n",
       "      <td>0.02</td>\n",
       "    </tr>\n",
       "    <tr>\n",
       "      <th>p-reach</th>\n",
       "      <td>NaN</td>\n",
       "      <td>NaN</td>\n",
       "      <td>NaN</td>\n",
       "      <td>NaN</td>\n",
       "    </tr>\n",
       "    <tr>\n",
       "      <th>e-surplus</th>\n",
       "      <td>NaN</td>\n",
       "      <td>NaN</td>\n",
       "      <td>NaN</td>\n",
       "      <td>NaN</td>\n",
       "    </tr>\n",
       "  </tbody>\n",
       "</table>\n",
       "</div>"
      ],
      "text/plain": [
       "               ZC  Equity  70/30  Floor75\n",
       "mean         1.34    2.02   1.79     2.00\n",
       "std          0.00    1.00   0.61     1.01\n",
       "p-breach      NaN    0.03   0.01     0.00\n",
       "e-shortfall   NaN    0.11   0.08     0.02\n",
       "p-reach       NaN     NaN    NaN      NaN\n",
       "e-surplus     NaN     NaN    NaN      NaN"
      ]
     },
     "execution_count": 100,
     "metadata": {},
     "output_type": "execute_result"
    }
   ],
   "source": [
    "rets_floor75= erk.bt_mix(rets_eq, rets_zc, allocator=erk.floor_allocator, floor=0.75, zc_prices=zc_prices[1:])\n",
    "pd.concat([\n",
    "    erk.terminal_stats(rets_zc,name=\"ZC\",floor=0.75),\n",
    "    erk.terminal_stats(rets_eq, name=\"Equity\",floor=0.75),\n",
    "    erk.terminal_stats(rets_7030b,name=\"70/30\",floor=0.75),\n",
    "    erk.terminal_stats(rets_floor75,name=\"Floor75\",floor=0.75)],\n",
    "    axis=1).round(2)"
   ]
  },
  {
   "cell_type": "markdown",
   "metadata": {},
   "source": [
    "Conclusion:\n",
    "\n",
    "Based on above statistics, CPPI_based dynamic risk budgeting algorithm does work very well! \n",
    "1. 'Floor75' only gave up 0.02% return (compared with 100% equity) in exchange for no breach at all \n",
    "2. Also, 'Floor75' successfully avioded 8% expected shortfall if breach\n",
    "3. Actually, it outperforms not only fixedmix allocator but also glide allocator\n",
    "-\n",
    "-\n",
    "-\n",
    "Next, what if we increase the multipler m? \n",
    "\n"
   ]
  },
  {
   "cell_type": "code",
   "execution_count": 101,
   "metadata": {},
   "outputs": [
    {
     "data": {
      "text/html": [
       "<div>\n",
       "<style scoped>\n",
       "    .dataframe tbody tr th:only-of-type {\n",
       "        vertical-align: middle;\n",
       "    }\n",
       "\n",
       "    .dataframe tbody tr th {\n",
       "        vertical-align: top;\n",
       "    }\n",
       "\n",
       "    .dataframe thead th {\n",
       "        text-align: right;\n",
       "    }\n",
       "</style>\n",
       "<table border=\"1\" class=\"dataframe\">\n",
       "  <thead>\n",
       "    <tr style=\"text-align: right;\">\n",
       "      <th></th>\n",
       "      <th>ZC</th>\n",
       "      <th>Equity</th>\n",
       "      <th>70/30</th>\n",
       "      <th>Floor75m3</th>\n",
       "      <th>Floor75m1</th>\n",
       "      <th>Floor75m5</th>\n",
       "    </tr>\n",
       "  </thead>\n",
       "  <tbody>\n",
       "    <tr>\n",
       "      <th>mean</th>\n",
       "      <td>1.3433</td>\n",
       "      <td>2.0190</td>\n",
       "      <td>1.7875</td>\n",
       "      <td>1.9956</td>\n",
       "      <td>1.6425</td>\n",
       "      <td>2.0062</td>\n",
       "    </tr>\n",
       "    <tr>\n",
       "      <th>std</th>\n",
       "      <td>0.0000</td>\n",
       "      <td>1.0000</td>\n",
       "      <td>0.6052</td>\n",
       "      <td>1.0062</td>\n",
       "      <td>0.4420</td>\n",
       "      <td>1.0079</td>\n",
       "    </tr>\n",
       "    <tr>\n",
       "      <th>p-breach</th>\n",
       "      <td>NaN</td>\n",
       "      <td>0.0344</td>\n",
       "      <td>0.0068</td>\n",
       "      <td>0.0016</td>\n",
       "      <td>NaN</td>\n",
       "      <td>0.0106</td>\n",
       "    </tr>\n",
       "    <tr>\n",
       "      <th>e-shortfall</th>\n",
       "      <td>NaN</td>\n",
       "      <td>0.1127</td>\n",
       "      <td>0.0799</td>\n",
       "      <td>0.0205</td>\n",
       "      <td>NaN</td>\n",
       "      <td>0.0186</td>\n",
       "    </tr>\n",
       "    <tr>\n",
       "      <th>p-reach</th>\n",
       "      <td>NaN</td>\n",
       "      <td>NaN</td>\n",
       "      <td>NaN</td>\n",
       "      <td>NaN</td>\n",
       "      <td>NaN</td>\n",
       "      <td>NaN</td>\n",
       "    </tr>\n",
       "    <tr>\n",
       "      <th>e-surplus</th>\n",
       "      <td>NaN</td>\n",
       "      <td>NaN</td>\n",
       "      <td>NaN</td>\n",
       "      <td>NaN</td>\n",
       "      <td>NaN</td>\n",
       "      <td>NaN</td>\n",
       "    </tr>\n",
       "  </tbody>\n",
       "</table>\n",
       "</div>"
      ],
      "text/plain": [
       "                 ZC  Equity   70/30  Floor75m3  Floor75m1  Floor75m5\n",
       "mean         1.3433  2.0190  1.7875     1.9956     1.6425     2.0062\n",
       "std          0.0000  1.0000  0.6052     1.0062     0.4420     1.0079\n",
       "p-breach        NaN  0.0344  0.0068     0.0016        NaN     0.0106\n",
       "e-shortfall     NaN  0.1127  0.0799     0.0205        NaN     0.0186\n",
       "p-reach         NaN     NaN     NaN        NaN        NaN        NaN\n",
       "e-surplus       NaN     NaN     NaN        NaN        NaN        NaN"
      ]
     },
     "execution_count": 101,
     "metadata": {},
     "output_type": "execute_result"
    }
   ],
   "source": [
    "rets_floor75m1= erk.bt_mix(rets_eq, rets_zc, allocator=erk.floor_allocator, floor=0.75, zc_prices=zc_prices[1:],m=1)\n",
    "rets_floor75m5= erk.bt_mix(rets_eq, rets_zc, allocator=erk.floor_allocator, floor=0.75, zc_prices=zc_prices[1:],m=5)\n",
    "pd.concat([\n",
    "    erk.terminal_stats(rets_zc,name=\"ZC\",floor=0.75),\n",
    "    erk.terminal_stats(rets_eq, name=\"Equity\",floor=0.75),\n",
    "    erk.terminal_stats(rets_7030b,name=\"70/30\",floor=0.75),\n",
    "    erk.terminal_stats(rets_floor75,name=\"Floor75m3\",floor=0.75),\n",
    "    erk.terminal_stats(rets_floor75m1,name=\"Floor75m1\",floor=0.75),\n",
    "    erk.terminal_stats(rets_floor75m5,name=\"Floor75m5\",floor=0.75)],\n",
    "    axis=1).round(4)"
   ]
  },
  {
   "cell_type": "markdown",
   "metadata": {},
   "source": [
    "## Now, Risk Budgeting with Drawdown Allocator"
   ]
  },
  {
   "cell_type": "code",
   "execution_count": 102,
   "metadata": {},
   "outputs": [
    {
     "data": {
      "text/html": [
       "<div>\n",
       "<style scoped>\n",
       "    .dataframe tbody tr th:only-of-type {\n",
       "        vertical-align: middle;\n",
       "    }\n",
       "\n",
       "    .dataframe tbody tr th {\n",
       "        vertical-align: top;\n",
       "    }\n",
       "\n",
       "    .dataframe thead th {\n",
       "        text-align: right;\n",
       "    }\n",
       "</style>\n",
       "<table border=\"1\" class=\"dataframe\">\n",
       "  <thead>\n",
       "    <tr style=\"text-align: right;\">\n",
       "      <th></th>\n",
       "      <th>ZC</th>\n",
       "      <th>Equity</th>\n",
       "      <th>70/30</th>\n",
       "      <th>Floor75m3</th>\n",
       "      <th>Floor75m1</th>\n",
       "      <th>Floor75m5</th>\n",
       "      <th>MaxDD25</th>\n",
       "    </tr>\n",
       "  </thead>\n",
       "  <tbody>\n",
       "    <tr>\n",
       "      <th>mean</th>\n",
       "      <td>1.343</td>\n",
       "      <td>2.019</td>\n",
       "      <td>1.787</td>\n",
       "      <td>1.996</td>\n",
       "      <td>1.642</td>\n",
       "      <td>2.006</td>\n",
       "      <td>1.657</td>\n",
       "    </tr>\n",
       "    <tr>\n",
       "      <th>std</th>\n",
       "      <td>0.000</td>\n",
       "      <td>1.000</td>\n",
       "      <td>0.605</td>\n",
       "      <td>1.006</td>\n",
       "      <td>0.442</td>\n",
       "      <td>1.008</td>\n",
       "      <td>0.551</td>\n",
       "    </tr>\n",
       "    <tr>\n",
       "      <th>p-breach</th>\n",
       "      <td>NaN</td>\n",
       "      <td>0.034</td>\n",
       "      <td>0.007</td>\n",
       "      <td>0.002</td>\n",
       "      <td>NaN</td>\n",
       "      <td>0.011</td>\n",
       "      <td>NaN</td>\n",
       "    </tr>\n",
       "    <tr>\n",
       "      <th>e-shortfall</th>\n",
       "      <td>NaN</td>\n",
       "      <td>0.113</td>\n",
       "      <td>0.080</td>\n",
       "      <td>0.020</td>\n",
       "      <td>NaN</td>\n",
       "      <td>0.019</td>\n",
       "      <td>NaN</td>\n",
       "    </tr>\n",
       "    <tr>\n",
       "      <th>p-reach</th>\n",
       "      <td>NaN</td>\n",
       "      <td>NaN</td>\n",
       "      <td>NaN</td>\n",
       "      <td>NaN</td>\n",
       "      <td>NaN</td>\n",
       "      <td>NaN</td>\n",
       "      <td>NaN</td>\n",
       "    </tr>\n",
       "    <tr>\n",
       "      <th>e-surplus</th>\n",
       "      <td>NaN</td>\n",
       "      <td>NaN</td>\n",
       "      <td>NaN</td>\n",
       "      <td>NaN</td>\n",
       "      <td>NaN</td>\n",
       "      <td>NaN</td>\n",
       "      <td>NaN</td>\n",
       "    </tr>\n",
       "  </tbody>\n",
       "</table>\n",
       "</div>"
      ],
      "text/plain": [
       "                ZC  Equity  70/30  Floor75m3  Floor75m1  Floor75m5  MaxDD25\n",
       "mean         1.343   2.019  1.787      1.996      1.642      2.006    1.657\n",
       "std          0.000   1.000  0.605      1.006      0.442      1.008    0.551\n",
       "p-breach       NaN   0.034  0.007      0.002        NaN      0.011      NaN\n",
       "e-shortfall    NaN   0.113  0.080      0.020        NaN      0.019      NaN\n",
       "p-reach        NaN     NaN    NaN        NaN        NaN        NaN      NaN\n",
       "e-surplus      NaN     NaN    NaN        NaN        NaN        NaN      NaN"
      ]
     },
     "execution_count": 102,
     "metadata": {},
     "output_type": "execute_result"
    }
   ],
   "source": [
    "cashrate=0.02\n",
    "monthly_cashreturn= (1+cashrate)**(1/12)-1\n",
    "rets_cash= pd.DataFrame(data=monthly_cashreturn, index=rets_eq.index, columns=rets_eq.columns)\n",
    "rets_maxdd25=erk.bt_mix(rets_eq, rets_cash, allocator=erk.drawdown_allocator, maxdd=0.25)\n",
    "tv_maxdd25=erk.terminal_values(rets_maxdd25)\n",
    "pd.concat([\n",
    "    erk.terminal_stats(rets_zc,name=\"ZC\",floor=0.75),\n",
    "    erk.terminal_stats(rets_eq, name=\"Equity\",floor=0.75),\n",
    "    erk.terminal_stats(rets_7030b,name=\"70/30\",floor=0.75),\n",
    "    erk.terminal_stats(rets_floor75,name=\"Floor75m3\",floor=0.75),\n",
    "    erk.terminal_stats(rets_floor75m1,name=\"Floor75m1\",floor=0.75),\n",
    "    erk.terminal_stats(rets_floor75m5,name=\"Floor75m5\",floor=0.75),\n",
    "    erk.terminal_stats(rets_maxdd25,name=\"MaxDD25\",floor=0.25)],\n",
    "    axis=1).round(3)"
   ]
  },
  {
   "cell_type": "code",
   "execution_count": 103,
   "metadata": {},
   "outputs": [
    {
     "data": {
      "text/plain": [
       "0   -0.191645\n",
       "1   -0.144960\n",
       "2   -0.122357\n",
       "3   -0.191993\n",
       "4   -0.182053\n",
       "Name: Max Drawdown, dtype: float64"
      ]
     },
     "execution_count": 103,
     "metadata": {},
     "output_type": "execute_result"
    }
   ],
   "source": [
    "erk.summary_stats(rets_maxdd25)[\"Max Drawdown\"].head()"
   ]
  },
  {
   "cell_type": "markdown",
   "metadata": {},
   "source": [
    "### So, what is the worst drawdown?"
   ]
  },
  {
   "cell_type": "code",
   "execution_count": 104,
   "metadata": {},
   "outputs": [
    {
     "data": {
      "text/plain": [
       "-0.23694663727550216"
      ]
     },
     "execution_count": 104,
     "metadata": {},
     "output_type": "execute_result"
    }
   ],
   "source": [
    "erk.summary_stats(rets_maxdd25)[\"Max Drawdown\"].min()"
   ]
  },
  {
   "cell_type": "markdown",
   "metadata": {},
   "source": [
    "Therefore, by using the Drawdown Allocator, we did achieve our goal of limiting the maxdrawn below 25%"
   ]
  },
  {
   "cell_type": "markdown",
   "metadata": {},
   "source": [
    "## Then see the distribution of terminal values of different methods above."
   ]
  },
  {
   "cell_type": "code",
   "execution_count": 105,
   "metadata": {},
   "outputs": [
    {
     "data": {
      "image/png": "[encoded data removed]",
      "text/plain": [
       "<Figure size 864x432 with 1 Axes>"
      ]
     },
     "metadata": {
      "needs_background": "light"
     },
     "output_type": "display_data"
    }
   ],
   "source": [
    "import seaborn as sns\n",
    "import matplotlib.pyplot as plt\n",
    "tv_eq= erk.terminal_values(rets_eq)\n",
    "tv_zc=erk.terminal_values(rets_zc)\n",
    "tv_7030b=erk.terminal_values(rets_7030b)\n",
    "tv_floor75=erk.terminal_values(rets_floor75)\n",
    "tv_maxdd25=erk.terminal_values(rets_maxdd25)\n",
    "# plot\n",
    "plt.figure(figsize=(12,6))\n",
    "sns.distplot(tv_eq, color=\"red\",label=\"100% Equity\", bins=100)\n",
    "plt.axvline(tv_eq.mean(),ls=\"--\", color=\"red\")\n",
    "\n",
    "sns.distplot(tv_7030b, color=\"orange\",label=\"70/30 equities/bonds\", bins=100)\n",
    "plt.axvline(tv_7030b.mean(),ls=\"--\", color=\"orange\")\n",
    "\n",
    "sns.distplot(tv_floor75, color=\"green\",label=\"CPPI Floor at 75%\", bins=100)\n",
    "plt.axvline(tv_floor75.mean(),ls=\"--\", color=\"green\")\n",
    "\n",
    "sns.distplot(tv_maxdd25, color=\"yellow\",label=\"MaxDD = 25%\", bins=100)\n",
    "plt.axvline(tv_maxdd25.mean(),ls=\"--\", color=\"yellow\")\n",
    "plt.legend();"
   ]
  },
  {
   "cell_type": "markdown",
   "metadata": {},
   "source": [
    "# Drawdown constraints with Historical Data"
   ]
  },
  {
   "cell_type": "markdown",
   "metadata": {},
   "source": [
    "First, take a look at historical market performance after 1990s"
   ]
  },
  {
   "cell_type": "code",
   "execution_count": 106,
   "metadata": {},
   "outputs": [
    {
     "data": {
      "text/plain": [
       "<matplotlib.axes._subplots.AxesSubplot at 0x1a1efe2d30>"
      ]
     },
     "execution_count": 106,
     "metadata": {},
     "output_type": "execute_result"
    },
    {
     "data": {
      "image/png": "[encoded data removed]",
      "text/plain": [
       "<Figure size 720x360 with 1 Axes>"
      ]
     },
     "metadata": {
      "needs_background": "light"
     },
     "output_type": "display_data"
    }
   ],
   "source": [
    "rets_tmi=erk.get_total_market_index_returns()[\"1990\":]\n",
    "dd_tmi=erk.drawdown(rets_tmi)\n",
    "ax= dd_tmi[\"Wealth\"].plot(figsize=(10,5),ls=\"-\", color=\"green\")\n",
    "dd_tmi[\"Previous Peak\"].plot(ax=ax, ls=\":\", color=\"red\")"
   ]
  },
  {
   "cell_type": "markdown",
   "metadata": {},
   "source": [
    "### Now, use our maxdrawdown allocator on the real data, 'US market after 1990'"
   ]
  },
  {
   "cell_type": "code",
   "execution_count": 107,
   "metadata": {},
   "outputs": [
    {
     "data": {
      "text/plain": [
       "<matplotlib.axes._subplots.AxesSubplot at 0x1a17edfc18>"
      ]
     },
     "execution_count": 107,
     "metadata": {},
     "output_type": "execute_result"
    },
    {
     "data": {
      "image/png": "[encoded data removed]",
      "text/plain": [
       "<Figure size 864x432 with 1 Axes>"
      ]
     },
     "metadata": {
      "needs_background": "light"
     },
     "output_type": "display_data"
    }
   ],
   "source": [
    "cashrate=0.03\n",
    "monthly_cashreturn=(1+cashrate)**(1/12)-1\n",
    "rets_cash= pd.DataFrame(data=monthly_cashreturn, index=rets_tmi.index, columns=[0]) # 1 column dataframe\n",
    "rets_maxdd25= erk.bt_mix(pd.DataFrame(rets_tmi),rets_cash, allocator=erk.drawdown_allocator, maxdd=0.25, m=5)\n",
    "dd_25= erk.drawdown(rets_maxdd25[0])\n",
    "\n",
    "ax=dd_tmi[\"Wealth\"].plot(figsize=(12,6), ls=\"-\", color=\"goldenrod\", label=\"Real US Stock Market\", legend=True)\n",
    "dd_tmi[\"Previous Peak\"].plot(ax=ax, ls=\":\", color=\"goldenrod\")\n",
    "dd_25[\"Wealth\"].plot(ax=ax, label=\"MaxDD Allocator with maxdd=25%\", color=\"cornflowerblue\", legend=True)\n",
    "dd_25[\"Previous Peak\"].plot(ax=ax, color=\"cornflowerblue\", ls=\":\")"
   ]
  },
  {
   "cell_type": "markdown",
   "metadata": {},
   "source": [
    "##### Then, see the statistics"
   ]
  },
  {
   "cell_type": "code",
   "execution_count": 108,
   "metadata": {},
   "outputs": [
    {
     "data": {
      "text/html": [
       "<div>\n",
       "<style scoped>\n",
       "    .dataframe tbody tr th:only-of-type {\n",
       "        vertical-align: middle;\n",
       "    }\n",
       "\n",
       "    .dataframe tbody tr th {\n",
       "        vertical-align: top;\n",
       "    }\n",
       "\n",
       "    .dataframe thead th {\n",
       "        text-align: right;\n",
       "    }\n",
       "</style>\n",
       "<table border=\"1\" class=\"dataframe\">\n",
       "  <thead>\n",
       "    <tr style=\"text-align: right;\">\n",
       "      <th></th>\n",
       "      <th>Annualized Returns</th>\n",
       "      <th>Annualized Vol</th>\n",
       "      <th>Skewness</th>\n",
       "      <th>Kurtosis</th>\n",
       "      <th>Corner_Fisher Var (5%)</th>\n",
       "      <th>Historic CVaR (5%)</th>\n",
       "      <th>Sharpe Ratio</th>\n",
       "      <th>Max Drawdown</th>\n",
       "    </tr>\n",
       "  </thead>\n",
       "  <tbody>\n",
       "    <tr>\n",
       "      <th>Market</th>\n",
       "      <td>0.096058</td>\n",
       "      <td>0.145419</td>\n",
       "      <td>-0.668827</td>\n",
       "      <td>4.247282</td>\n",
       "      <td>0.066949</td>\n",
       "      <td>0.094633</td>\n",
       "      <td>0.441951</td>\n",
       "      <td>-0.499943</td>\n",
       "    </tr>\n",
       "    <tr>\n",
       "      <th>MaxDD</th>\n",
       "      <td>0.090062</td>\n",
       "      <td>0.112755</td>\n",
       "      <td>-0.630463</td>\n",
       "      <td>5.015334</td>\n",
       "      <td>0.049978</td>\n",
       "      <td>0.071074</td>\n",
       "      <td>0.518327</td>\n",
       "      <td>-0.244212</td>\n",
       "    </tr>\n",
       "  </tbody>\n",
       "</table>\n",
       "</div>"
      ],
      "text/plain": [
       "        Annualized Returns  Annualized Vol  Skewness  Kurtosis  \\\n",
       "Market            0.096058        0.145419 -0.668827  4.247282   \n",
       "MaxDD             0.090062        0.112755 -0.630463  5.015334   \n",
       "\n",
       "        Corner_Fisher Var (5%)  Historic CVaR (5%)  Sharpe Ratio  Max Drawdown  \n",
       "Market                0.066949            0.094633      0.441951     -0.499943  \n",
       "MaxDD                 0.049978            0.071074      0.518327     -0.244212  "
      ]
     },
     "execution_count": 108,
     "metadata": {},
     "output_type": "execute_result"
    }
   ],
   "source": [
    "erk.summary_stats(pd.concat([rets_tmi.rename(\"Market\"), rets_maxdd25[0].rename(\"MaxDD\")], axis=1))"
   ]
  },
  {
   "cell_type": "markdown",
   "metadata": {},
   "source": [
    "Conclusion:\n",
    "1. We succeeded in reducing Max Drawdown from 50% to 25% in real historic data\n",
    "2. In terms of annualized returns, we gave up only 0.6% (from 9.6% to 9%)"
   ]
  }
 ],
 "metadata": {
  "kernelspec": {
   "display_name": "Python 3",
   "language": "python",
   "name": "python3"
  },
  "language_info": {
   "codemirror_mode": {
    "name": "ipython",
    "version": 3
   },
   "file_extension": ".py",
   "mimetype": "text/x-python",
   "name": "python",
   "nbconvert_exporter": "python",
   "pygments_lexer": "ipython3",
   "version": "3.7.3"
  }
 },
 "nbformat": 4,
 "nbformat_minor": 4
}
